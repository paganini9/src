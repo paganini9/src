{
 "cells": [
  {
   "cell_type": "code",
   "execution_count": 1,
   "id": "dc0d6687",
   "metadata": {},
   "outputs": [
    {
     "name": "stdout",
     "output_type": "stream",
     "text": [
      "결과 이미지 저장 경로: ./dividedImage/4/\n"
     ]
    }
   ],
   "source": [
    "!python ImageDivider.py \"..\\img\\4.jpg\""
   ]
  },
  {
   "cell_type": "code",
   "execution_count": null,
   "id": "1aa8ce84",
   "metadata": {},
   "outputs": [],
   "source": []
  }
 ],
 "metadata": {
  "kernelspec": {
   "display_name": "Python 3 (ipykernel)",
   "language": "python",
   "name": "python3"
  },
  "language_info": {
   "codemirror_mode": {
    "name": "ipython",
    "version": 3
   },
   "file_extension": ".py",
   "mimetype": "text/x-python",
   "name": "python",
   "nbconvert_exporter": "python",
   "pygments_lexer": "ipython3",
   "version": "3.7.13"
  }
 },
 "nbformat": 4,
 "nbformat_minor": 5
}
